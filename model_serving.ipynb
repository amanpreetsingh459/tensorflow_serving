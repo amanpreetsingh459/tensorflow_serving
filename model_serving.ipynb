{
 "cells": [
  {
   "cell_type": "code",
   "execution_count": 1,
   "id": "5437540d",
   "metadata": {},
   "outputs": [
    {
     "name": "stderr",
     "output_type": "stream",
     "text": [
      "2021-12-12 18:14:02.949706: W tensorflow/stream_executor/platform/default/dso_loader.cc:64] Could not load dynamic library 'libcudart.so.11.0'; dlerror: libcudart.so.11.0: cannot open shared object file: No such file or directory\n",
      "2021-12-12 18:14:02.949741: I tensorflow/stream_executor/cuda/cudart_stub.cc:29] Ignore above cudart dlerror if you do not have a GPU set up on your machine.\n"
     ]
    }
   ],
   "source": [
    "import pickle\n",
    "# loading\n",
    "with open('tokenizer.pkl', 'rb') as handle:\n",
    "    tokenizer = pickle.load(handle)"
   ]
  },
  {
   "cell_type": "code",
   "execution_count": 2,
   "id": "3da25a61",
   "metadata": {},
   "outputs": [
    {
     "name": "stdout",
     "output_type": "stream",
     "text": [
      "8185\n"
     ]
    }
   ],
   "source": [
    "print(tokenizer.vocab_size)"
   ]
  },
  {
   "cell_type": "code",
   "execution_count": 5,
   "id": "43cf28de",
   "metadata": {},
   "outputs": [],
   "source": [
    "#print(tokenizer.subwords)"
   ]
  },
  {
   "cell_type": "code",
   "execution_count": 24,
   "id": "d6f2cf8c",
   "metadata": {},
   "outputs": [],
   "source": [
    "import json\n",
    "import requests\n",
    "def make_prediction(instances, url):\n",
    "   data = json.dumps({\"signature_name\": \"serving_default\", \"instances\": [instances]})\n",
    "   headers = {\"content-type\": \"application/json\"}\n",
    "   json_response = requests.post(url, data=data, headers=headers)\n",
    "   predictions = json.loads(json_response.text)['predictions']\n",
    "   return predictions"
   ]
  },
  {
   "cell_type": "code",
   "execution_count": 39,
   "id": "ac9477bc",
   "metadata": {},
   "outputs": [],
   "source": [
    "url = \"http://localhost:8501/v1/models/sentiment_classifier:predict\""
   ]
  },
  {
   "cell_type": "code",
   "execution_count": 40,
   "id": "91a87e3a",
   "metadata": {},
   "outputs": [],
   "source": [
    "test_reviews = [\"That movie i saw the other day was fantabulous\", \n",
    "                \"That movie i saw the other day was aweful\"]\n",
    "\n",
    "predictions = []\n",
    "for review in test_reviews:\n",
    "    predictions.append(make_prediction(tokenizer.encode(review), url)[0])"
   ]
  },
  {
   "cell_type": "code",
   "execution_count": 45,
   "id": "0752d5de",
   "metadata": {},
   "outputs": [
    {
     "name": "stdout",
     "output_type": "stream",
     "text": [
      "That movie i saw the other day was fantabulous\n",
      ":: Review is Positive ::\n",
      "That movie i saw the other day was aweful\n",
      ":: Review is Negative ::\n"
     ]
    }
   ],
   "source": [
    "for review, pred in zip(test_reviews, predictions):\n",
    "    print(review)\n",
    "    if pred[0] >= 0.6:\n",
    "        print(\":: Review is Positive ::\")\n",
    "    else:\n",
    "        print(\":: Review is Negative ::\")"
   ]
  },
  {
   "cell_type": "code",
   "execution_count": null,
   "id": "f2f6f9b8",
   "metadata": {},
   "outputs": [],
   "source": []
  },
  {
   "cell_type": "code",
   "execution_count": null,
   "id": "48af7092",
   "metadata": {},
   "outputs": [],
   "source": []
  }
 ],
 "metadata": {
  "kernelspec": {
   "display_name": "Python 3 (ipykernel)",
   "language": "python",
   "name": "python3"
  },
  "language_info": {
   "codemirror_mode": {
    "name": "ipython",
    "version": 3
   },
   "file_extension": ".py",
   "mimetype": "text/x-python",
   "name": "python",
   "nbconvert_exporter": "python",
   "pygments_lexer": "ipython3",
   "version": "3.8.10"
  }
 },
 "nbformat": 4,
 "nbformat_minor": 5
}
